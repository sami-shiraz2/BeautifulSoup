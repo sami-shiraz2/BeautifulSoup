{
 "cells": [
  {
   "cell_type": "code",
   "execution_count": 1,
   "metadata": {},
   "outputs": [],
   "source": [
    "import requests\n",
    "from bs4 import BeautifulSoup"
   ]
  },
  {
   "cell_type": "code",
   "execution_count": 2,
   "metadata": {},
   "outputs": [],
   "source": [
    "url = 'https://codewithharry.com/'"
   ]
  },
  {
   "cell_type": "code",
   "execution_count": 3,
   "metadata": {},
   "outputs": [],
   "source": [
    "r = requests.get(url)"
   ]
  },
  {
   "cell_type": "code",
   "execution_count": 5,
   "metadata": {},
   "outputs": [],
   "source": [
    "HtmlContent = r.content"
   ]
  },
  {
   "cell_type": "code",
   "execution_count": 7,
   "metadata": {},
   "outputs": [],
   "source": [
    "soup = BeautifulSoup(HtmlContent, 'html.parser')"
   ]
  },
  {
   "cell_type": "code",
   "execution_count": 10,
   "metadata": {},
   "outputs": [],
   "source": [
    "title = soup.title"
   ]
  },
  {
   "cell_type": "code",
   "execution_count": 16,
   "metadata": {},
   "outputs": [],
   "source": [
    "paras = soup.find_all('p')"
   ]
  },
  {
   "cell_type": "code",
   "execution_count": 19,
   "metadata": {},
   "outputs": [],
   "source": [
    "achor = soup.find_all('a')"
   ]
  },
  {
   "cell_type": "code",
   "execution_count": 20,
   "metadata": {},
   "outputs": [
    {
     "name": "stdout",
     "output_type": "stream",
     "text": [
      "['lead', 'text-muted']\n"
     ]
    }
   ],
   "source": [
    "print(soup.find('p')['class'])"
   ]
  },
  {
   "cell_type": "code",
   "execution_count": 23,
   "metadata": {},
   "outputs": [
    {
     "name": "stdout",
     "output_type": "stream",
     "text": [
      "[<p class=\"lead text-muted\">Confused on which course to take? I have got you covered. Browse courses and find out\n",
      "            the best course for you. Its free!<br/>Code With Harry is my attempt to teach basics and those coding\n",
      "            techniques to people in short time which took me ages to learn.</p>]\n"
     ]
    }
   ],
   "source": [
    "print(soup.find_all('p', class_='lead'))"
   ]
  },
  {
   "cell_type": "code",
   "execution_count": 25,
   "metadata": {},
   "outputs": [
    {
     "name": "stdout",
     "output_type": "stream",
     "text": [
      "Confused on which course to take? I have got you covered. Browse courses and find out\n",
      "            the best course for you. Its free!Code With Harry is my attempt to teach basics and those coding\n",
      "            techniques to people in short time which took me ages to learn.\n"
     ]
    }
   ],
   "source": [
    "print(soup.find('p').get_text())"
   ]
  },
  {
   "cell_type": "code",
   "execution_count": 36,
   "metadata": {},
   "outputs": [],
   "source": [
    "achor = soup.find_all('a')\n",
    "lin=set()"
   ]
  },
  {
   "cell_type": "code",
   "execution_count": 38,
   "metadata": {},
   "outputs": [
    {
     "name": "stdout",
     "output_type": "stream",
     "text": [
      "https://www.codewithharry.com/\n",
      "https://www.codewithharry.com/\n",
      "https://www.codewithharry.com/videos\n",
      "https://www.codewithharry.com/blog\n",
      "https://www.codewithharry.com/contact\n",
      "https://www.codewithharry.com/blog\n",
      "https://www.codewithharry.com/videos\n",
      "https://www.codewithharry.com/contact\n",
      "https://www.codewithharry.com/videos\n",
      "https://www.codewithharry.com/blog\n",
      "https://www.codewithharry.com/contact\n"
     ]
    }
   ],
   "source": [
    "for link in achor:\n",
    "    if(link.get('href') != '#'):\n",
    "        link_Text = ('https://www.codewithharry.com'+link.get('href'))\n",
    "        lin.add(link_Text)\n",
    "        print(link_Text)"
   ]
  },
  {
   "cell_type": "code",
   "execution_count": 39,
   "metadata": {},
   "outputs": [
    {
     "data": {
      "text/plain": [
       "<div class=\"collapse navbar-collapse\" id=\"navbarSupportedContent\">\n",
       "<ul class=\"navbar-nav mr-auto\">\n",
       "<li class=\"nav-item font-weight-bold\">\n",
       "<a class=\"nav-link\" href=\"/\">Home</a>\n",
       "</li>\n",
       "<li class=\"nav-item font-weight-bold\">\n",
       "<a class=\"nav-link\" href=\"/videos\">Videos</a>\n",
       "</li>\n",
       "<li class=\"nav-item font-weight-bold\">\n",
       "<a class=\"nav-link\" href=\"/blog\">Blog</a>\n",
       "</li>\n",
       "<li class=\"nav-item font-weight-bold\">\n",
       "<a class=\"nav-link\" href=\"/contact\">Contact Me</a>\n",
       "</li>\n",
       "</ul>\n",
       "<form action=\"/search/\" class=\"form-inline my-2 my-lg-0 mr-3\" method=\"get\">\n",
       "<input aria-label=\"Search\" class=\"form-control mr-sm-2\" name=\"query\" placeholder=\"Search\" type=\"search\"/>\n",
       "<button class=\"btn btn-danger my-2 my-sm-0\" type=\"submit\">Search</button>\n",
       "</form>\n",
       "<div>\n",
       "<button class=\"btn btn-danger\" data-target=\"#loginModal\" data-toggle=\"modal\" type=\"button\">Login</button>\n",
       "<button class=\"btn btn-danger\" data-target=\"#signupModal\" data-toggle=\"modal\" type=\"button\">SignUp</button>\n",
       "</div>\n",
       "</div>"
      ]
     },
     "execution_count": 39,
     "metadata": {},
     "output_type": "execute_result"
    }
   ],
   "source": [
    "navbarSupportedContent = soup.find(id='navbarSupportedContent')\n",
    "navbarSupportedContent"
   ]
  },
  {
   "cell_type": "code",
   "execution_count": 48,
   "metadata": {},
   "outputs": [
    {
     "name": "stdout",
     "output_type": "stream",
     "text": [
      "\n",
      "\n",
      "<ul class=\"navbar-nav mr-auto\">\n",
      "<li class=\"nav-item font-weight-bold\">\n",
      "<a class=\"nav-link\" href=\"/\">Home</a>\n",
      "</li>\n",
      "<li class=\"nav-item font-weight-bold\">\n",
      "<a class=\"nav-link\" href=\"/videos\">Videos</a>\n",
      "</li>\n",
      "<li class=\"nav-item font-weight-bold\">\n",
      "<a class=\"nav-link\" href=\"/blog\">Blog</a>\n",
      "</li>\n",
      "<li class=\"nav-item font-weight-bold\">\n",
      "<a class=\"nav-link\" href=\"/contact\">Contact Me</a>\n",
      "</li>\n",
      "</ul>\n",
      "\n",
      "\n",
      "<form action=\"/search/\" class=\"form-inline my-2 my-lg-0 mr-3\" method=\"get\">\n",
      "<input aria-label=\"Search\" class=\"form-control mr-sm-2\" name=\"query\" placeholder=\"Search\" type=\"search\"/>\n",
      "<button class=\"btn btn-danger my-2 my-sm-0\" type=\"submit\">Search</button>\n",
      "</form>\n",
      "\n",
      "\n",
      "<div>\n",
      "<button class=\"btn btn-danger\" data-target=\"#loginModal\" data-toggle=\"modal\" type=\"button\">Login</button>\n",
      "<button class=\"btn btn-danger\" data-target=\"#signupModal\" data-toggle=\"modal\" type=\"button\">SignUp</button>\n",
      "</div>\n",
      "\n",
      "\n"
     ]
    }
   ],
   "source": [
    "for ele in navbarSupportedContent.children:\n",
    "    print(ele)"
   ]
  },
  {
   "cell_type": "code",
   "execution_count": 42,
   "metadata": {},
   "outputs": [
    {
     "name": "stdout",
     "output_type": "stream",
     "text": [
      "\n",
      "\n",
      "\n",
      "\n",
      "\n",
      "\n",
      "Home\n",
      "\n",
      "\n",
      "\n",
      "\n",
      "\n",
      "\n",
      "Videos\n",
      "\n",
      "\n",
      "\n",
      "\n",
      "\n",
      "\n",
      "Blog\n",
      "\n",
      "\n",
      "\n",
      "\n",
      "\n",
      "\n",
      "Contact Me\n",
      "\n",
      "\n",
      "\n",
      "\n",
      "\n",
      "\n",
      "\n",
      "\n",
      "\n",
      "\n",
      "Search\n",
      "\n",
      "\n",
      "\n",
      "\n",
      "\n",
      "\n",
      "Login\n",
      "\n",
      "\n",
      "SignUp\n",
      "\n",
      "\n",
      "\n",
      "\n"
     ]
    }
   ],
   "source": [
    "for items in navbarSupportedContent.strings:\n",
    "    print(items)"
   ]
  },
  {
   "cell_type": "code",
   "execution_count": 49,
   "metadata": {},
   "outputs": [
    {
     "name": "stdout",
     "output_type": "stream",
     "text": [
      "Home\n",
      "Videos\n",
      "Blog\n",
      "Contact Me\n",
      "Search\n",
      "Login\n",
      "SignUp\n"
     ]
    }
   ],
   "source": [
    "for items in navbarSupportedContent.stripped_strings:\n",
    "    print(items)"
   ]
  },
  {
   "cell_type": "code",
   "execution_count": 52,
   "metadata": {},
   "outputs": [
    {
     "name": "stdout",
     "output_type": "stream",
     "text": [
      "\n",
      "\n",
      "<a class=\"navbar-brand\" href=\"/\"><img alt=\"My image\" class=\"brandLogo\" src=\"/static/home/img/photo.png\"/></a>\n",
      "\n",
      "\n",
      "<button aria-controls=\"navbarSupportedContent\" aria-expanded=\"false\" aria-label=\"Toggle navigation\" class=\"navbar-toggler\" data-target=\"#navbarSupportedContent\" data-toggle=\"collapse\" type=\"button\">\n",
      "<span class=\"navbar-toggler-icon\"></span>\n",
      "</button>\n",
      "\n",
      "\n",
      "<div class=\"collapse navbar-collapse\" id=\"navbarSupportedContent\">\n",
      "<ul class=\"navbar-nav mr-auto\">\n",
      "<li class=\"nav-item font-weight-bold\">\n",
      "<a class=\"nav-link\" href=\"/\">Home</a>\n",
      "</li>\n",
      "<li class=\"nav-item font-weight-bold\">\n",
      "<a class=\"nav-link\" href=\"/videos\">Videos</a>\n",
      "</li>\n",
      "<li class=\"nav-item font-weight-bold\">\n",
      "<a class=\"nav-link\" href=\"/blog\">Blog</a>\n",
      "</li>\n",
      "<li class=\"nav-item font-weight-bold\">\n",
      "<a class=\"nav-link\" href=\"/contact\">Contact Me</a>\n",
      "</li>\n",
      "</ul>\n",
      "<form action=\"/search/\" class=\"form-inline my-2 my-lg-0 mr-3\" method=\"get\">\n",
      "<input aria-label=\"Search\" class=\"form-control mr-sm-2\" name=\"query\" placeholder=\"Search\" type=\"search\"/>\n",
      "<button class=\"btn btn-danger my-2 my-sm-0\" type=\"submit\">Search</button>\n",
      "</form>\n",
      "<div>\n",
      "<button class=\"btn btn-danger\" data-target=\"#loginModal\" data-toggle=\"modal\" type=\"button\">Login</button>\n",
      "<button class=\"btn btn-danger\" data-target=\"#signupModal\" data-toggle=\"modal\" type=\"button\">SignUp</button>\n",
      "</div>\n",
      "</div>\n",
      "\n",
      "\n"
     ]
    }
   ],
   "source": [
    "for items in navbarSupportedContent.parent:\n",
    "    print(items)"
   ]
  },
  {
   "cell_type": "code",
   "execution_count": 59,
   "metadata": {},
   "outputs": [
    {
     "name": "stdout",
     "output_type": "stream",
     "text": [
      "<button aria-controls=\"navbarSupportedContent\" aria-expanded=\"false\" aria-label=\"Toggle navigation\" class=\"navbar-toggler\" data-target=\"#navbarSupportedContent\" data-toggle=\"collapse\" type=\"button\">\n",
      "<span class=\"navbar-toggler-icon\"></span>\n",
      "</button>\n"
     ]
    }
   ],
   "source": [
    "print(navbarSupportedContent.previous_sibling.previous_sibling)"
   ]
  },
  {
   "cell_type": "code",
   "execution_count": null,
   "metadata": {},
   "outputs": [],
   "source": []
  },
  {
   "cell_type": "code",
   "execution_count": null,
   "metadata": {},
   "outputs": [],
   "source": []
  }
 ],
 "metadata": {
  "kernelspec": {
   "display_name": "Python 3",
   "language": "python",
   "name": "python3"
  },
  "language_info": {
   "codemirror_mode": {
    "name": "ipython",
    "version": 3
   },
   "file_extension": ".py",
   "mimetype": "text/x-python",
   "name": "python",
   "nbconvert_exporter": "python",
   "pygments_lexer": "ipython3",
   "version": "3.7.3"
  }
 },
 "nbformat": 4,
 "nbformat_minor": 2
}
